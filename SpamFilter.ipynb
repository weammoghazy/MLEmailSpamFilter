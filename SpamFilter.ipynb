{
  "nbformat": 4,
  "nbformat_minor": 0,
  "metadata": {
    "colab": {
      "name": "SpamFilter.ipynb",
      "version": "0.3.2",
      "provenance": [],
      "collapsed_sections": [],
      "include_colab_link": true
    },
    "kernelspec": {
      "name": "python3",
      "display_name": "Python 3"
    }
  },
  "cells": [
    {
      "cell_type": "markdown",
      "metadata": {
        "id": "view-in-github",
        "colab_type": "text"
      },
      "source": [
        "<a href=\"https://colab.research.google.com/github/weammoghazy/MLEmailSpamFilter/blob/master/SpamFilter.ipynb\" target=\"_parent\"><img src=\"https://colab.research.google.com/assets/colab-badge.svg\" alt=\"Open In Colab\"/></a>"
      ]
    },
    {
      "cell_type": "markdown",
      "metadata": {
        "id": "paKtyU4d6c6T",
        "colab_type": "text"
      },
      "source": [
        "##Imports \n",
        "\n",
        "We will import some libraries (pandas, numpy, io, sklearn).\n"
      ]
    },
    {
      "cell_type": "code",
      "metadata": {
        "id": "meIlqfMl7F4l",
        "colab_type": "code",
        "colab": {}
      },
      "source": [
        "import pandas as pd\n",
        "import numpy as np\n",
        "import io\n",
        "import random\n",
        "from google.colab import files\n",
        "import sklearn\n",
        "from sklearn.model_selection import train_test_split\n",
        "from sklearn import preprocessing\n",
        "from sklearn.naive_bayes import MultinomialNB\n",
        "from sklearn.metrics import classification_report\n",
        "from sklearn.feature_extraction import text\n",
        "from sklearn.feature_extraction.text import TfidfVectorizer"
      ],
      "execution_count": 0,
      "outputs": []
    },
    {
      "cell_type": "markdown",
      "metadata": {
        "id": "nIJ0SPBv7Jy9",
        "colab_type": "text"
      },
      "source": [
        "## Load the data \n"
      ]
    },
    {
      "cell_type": "markdown",
      "metadata": {
        "id": "ECcqtql7o1Lu",
        "colab_type": "text"
      },
      "source": [
        "###Load the data from a file (don't run this if you don't have the file on your local drive)"
      ]
    },
    {
      "cell_type": "code",
      "metadata": {
        "id": "0_NdVl237woO",
        "colab_type": "code",
        "colab": {}
      },
      "source": [
        "# Upload the csv file from your local drive\n",
        "uploaded = files.upload()\n",
        "\n",
        "# Load in the data from a CSV file that is a tab (\\t) separated.\n",
        "# put the filename instead of 'SMSSpamCollection' if you are using this method to load a file\n",
        "df = pd.read_csv(io.StringIO(uploaded['SMSSpamCollection'].decode('utf-8')),sep='\\\\t')"
      ],
      "execution_count": 0,
      "outputs": []
    },
    {
      "cell_type": "markdown",
      "metadata": {
        "id": "tmjlQmtJ8fyX",
        "colab_type": "text"
      },
      "source": [
        "### OR Load the data from a URL (RUN THIS CODE)"
      ]
    },
    {
      "cell_type": "code",
      "metadata": {
        "id": "0bVRBawx8khg",
        "colab_type": "code",
        "colab": {}
      },
      "source": [
        "# load the file from github repository\n",
        "url = \"https://raw.githubusercontent.com/weammoghazy/MLEmailSpamFilter/master/emails.csv\"\n",
        "\n",
        "# use unicode to decode the file and a comma separator to form the data frame\n",
        "df = pd.read_csv(url, encoding='utf-8',sep=',')"
      ],
      "execution_count": 0,
      "outputs": []
    },
    {
      "cell_type": "markdown",
      "metadata": {
        "id": "t8VAx02-pOfB",
        "colab_type": "text"
      },
      "source": [
        "##Randomize the data"
      ]
    },
    {
      "cell_type": "code",
      "metadata": {
        "id": "H8BwfPtrpNHk",
        "colab_type": "code",
        "outputId": "3c54cf6e-7c02-45f2-94bd-b0b8d401ad1b",
        "colab": {
          "base_uri": "https://localhost:8080/",
          "height": 355
        }
      },
      "source": [
        "# We'll then randomize the data, just to be sure not to get any pathological\n",
        "# ordering effects that might harm the performance of the model.\n",
        "df = df.reindex(np.random.permutation(df.index))\n",
        "\n",
        "# view the first 10 rows of the data, just to check its structure \n",
        "df.head(10)"
      ],
      "execution_count": 150,
      "outputs": [
        {
          "output_type": "execute_result",
          "data": {
            "text/html": [
              "<div>\n",
              "<style scoped>\n",
              "    .dataframe tbody tr th:only-of-type {\n",
              "        vertical-align: middle;\n",
              "    }\n",
              "\n",
              "    .dataframe tbody tr th {\n",
              "        vertical-align: top;\n",
              "    }\n",
              "\n",
              "    .dataframe thead th {\n",
              "        text-align: right;\n",
              "    }\n",
              "</style>\n",
              "<table border=\"1\" class=\"dataframe\">\n",
              "  <thead>\n",
              "    <tr style=\"text-align: right;\">\n",
              "      <th></th>\n",
              "      <th>text</th>\n",
              "      <th>spam</th>\n",
              "    </tr>\n",
              "  </thead>\n",
              "  <tbody>\n",
              "    <tr>\n",
              "      <th>5382</th>\n",
              "      <td>Subject: re : christmas basket list  here is t...</td>\n",
              "      <td>0</td>\n",
              "    </tr>\n",
              "    <tr>\n",
              "      <th>157</th>\n",
              "      <td>Subject: check this impotence medication  don ...</td>\n",
              "      <td>1</td>\n",
              "    </tr>\n",
              "    <tr>\n",
              "      <th>4791</th>\n",
              "      <td>Subject: re : address  shirley ,  they are fro...</td>\n",
              "      <td>0</td>\n",
              "    </tr>\n",
              "    <tr>\n",
              "      <th>464</th>\n",
              "      <td>Subject: v and more  hello , welcome to the me...</td>\n",
              "      <td>1</td>\n",
              "    </tr>\n",
              "    <tr>\n",
              "      <th>3475</th>\n",
              "      <td>Subject: updated org chart  vince ,  i updated...</td>\n",
              "      <td>0</td>\n",
              "    </tr>\n",
              "    <tr>\n",
              "      <th>2595</th>\n",
              "      <td>Subject: preface for book  vince ,  ?  hope yo...</td>\n",
              "      <td>0</td>\n",
              "    </tr>\n",
              "    <tr>\n",
              "      <th>4216</th>\n",
              "      <td>Subject: re : presentation  dawn ,  i met davi...</td>\n",
              "      <td>0</td>\n",
              "    </tr>\n",
              "    <tr>\n",
              "      <th>1551</th>\n",
              "      <td>Subject: re : implementing term - structure of...</td>\n",
              "      <td>0</td>\n",
              "    </tr>\n",
              "    <tr>\n",
              "      <th>683</th>\n",
              "      <td>Subject: re : money issues ygr  repair your cr...</td>\n",
              "      <td>1</td>\n",
              "    </tr>\n",
              "    <tr>\n",
              "      <th>1175</th>\n",
              "      <td>Subject: your membership community charset = i...</td>\n",
              "      <td>1</td>\n",
              "    </tr>\n",
              "  </tbody>\n",
              "</table>\n",
              "</div>"
            ],
            "text/plain": [
              "                                                   text  spam\n",
              "5382  Subject: re : christmas basket list  here is t...     0\n",
              "157   Subject: check this impotence medication  don ...     1\n",
              "4791  Subject: re : address  shirley ,  they are fro...     0\n",
              "464   Subject: v and more  hello , welcome to the me...     1\n",
              "3475  Subject: updated org chart  vince ,  i updated...     0\n",
              "2595  Subject: preface for book  vince ,  ?  hope yo...     0\n",
              "4216  Subject: re : presentation  dawn ,  i met davi...     0\n",
              "1551  Subject: re : implementing term - structure of...     0\n",
              "683   Subject: re : money issues ygr  repair your cr...     1\n",
              "1175  Subject: your membership community charset = i...     1"
            ]
          },
          "metadata": {
            "tags": []
          },
          "execution_count": 150
        }
      ]
    },
    {
      "cell_type": "markdown",
      "metadata": {
        "id": "oa75uClY8ld3",
        "colab_type": "text"
      },
      "source": [
        "## Feature Extraction"
      ]
    },
    {
      "cell_type": "code",
      "metadata": {
        "id": "HimoUYYM9Htn",
        "colab_type": "code",
        "outputId": "537a4b5f-55f4-4ffe-ab4e-0a4b0a491a76",
        "colab": {
          "base_uri": "https://localhost:8080/",
          "height": 383
        }
      },
      "source": [
        "# extract features with CountVectorizer\n",
        "feature = df[\"text\"]\n",
        "\n",
        "# import a list of stopwords that will be removed from th4e feature list\n",
        "my_stop_words = text.ENGLISH_STOP_WORDS.union(\"Subject\")\n",
        "\n",
        "# Use a TFIDFVectorizer that considers the more frequent words less significant \n",
        "vectorizer = TfidfVectorizer(lowercase=True, stop_words=my_stop_words)\n",
        "X = vectorizer.fit_transform(feature).toarray()\n",
        "\n",
        "# print the 2D matrix [words, count]\n",
        "print (X.shape)\n",
        "\n",
        "# View 20 features of the list - just to get an idea of what it looks like\n",
        "vectorizer.get_feature_names()[:20]"
      ],
      "execution_count": 151,
      "outputs": [
        {
          "output_type": "stream",
          "text": [
            "(5728, 36996)\n"
          ],
          "name": "stdout"
        },
        {
          "output_type": "execute_result",
          "data": {
            "text/plain": [
              "['00',\n",
              " '000',\n",
              " '0000',\n",
              " '000000',\n",
              " '00000000',\n",
              " '0000000000',\n",
              " '000000000003619',\n",
              " '000000000003991',\n",
              " '000000000003997',\n",
              " '000000000005168',\n",
              " '000000000005409',\n",
              " '000000000005411',\n",
              " '000000000005412',\n",
              " '000000000005413',\n",
              " '000000000005820',\n",
              " '000000000006238',\n",
              " '000000000006452',\n",
              " '000000000007494',\n",
              " '000000000007498',\n",
              " '000000000007876']"
            ]
          },
          "metadata": {
            "tags": []
          },
          "execution_count": 151
        }
      ]
    },
    {
      "cell_type": "code",
      "metadata": {
        "id": "wl0X-QJf-DH1",
        "colab_type": "code",
        "colab": {}
      },
      "source": [
        "## label encoding: map the label (spam, ham) to (0,1) - this part is only needed if the emails were marked \"spam\" and \"ham\"\n",
        "\n",
        "# categories = df[\"type\"].unique()\n",
        "# category_dict = {value:index for index, value in enumerate(categories)}\n",
        "# Y = df[\"type\"].map(category_dict)\n",
        "# category_dict\n",
        "\n",
        "# now, get the class [spam/ham]\n",
        "Y = df[\"spam\"]"
      ],
      "execution_count": 0,
      "outputs": []
    },
    {
      "cell_type": "markdown",
      "metadata": {
        "id": "Yqx5cbSg9hLk",
        "colab_type": "text"
      },
      "source": [
        "### Naive Bayes Classifier\n",
        "\n",
        "\"Naive Bayes is the most straightforward and fast classification algorithm, which is suitable for a large chunk of data. Naive Bayes classifier is successfully used in various applications such as spam filtering, text classification, sentiment analysis, and recommender systems. It uses Bayes theorem of probability for prediction of unknown class\""
      ]
    },
    {
      "cell_type": "markdown",
      "metadata": {
        "id": "FyYA5ZzJsOzj",
        "colab_type": "text"
      },
      "source": [
        "Split the data into training and testing sets with 8:2 ratio"
      ]
    },
    {
      "cell_type": "code",
      "metadata": {
        "id": "VBWznI5k-J9J",
        "colab_type": "code",
        "colab": {}
      },
      "source": [
        "x_train, x_test, y_train, y_test = train_test_split(X, Y, test_size = 0.2, random_state=1) # 80% training and 20% testing "
      ],
      "execution_count": 0,
      "outputs": []
    },
    {
      "cell_type": "markdown",
      "metadata": {
        "id": "ABhTqlNtsWl_",
        "colab_type": "text"
      },
      "source": [
        "Use a multinomial naive bayes classifier, which will eventually simplify into a binary naive base classifier (as we only have two classes[spam/ham])"
      ]
    },
    {
      "cell_type": "code",
      "metadata": {
        "id": "rGpDf5tm-WSr",
        "colab_type": "code",
        "outputId": "e6d4c8a5-7214-4f06-b5cd-a4f8bb321db6",
        "colab": {
          "base_uri": "https://localhost:8080/",
          "height": 34
        }
      },
      "source": [
        "# create a model\n",
        "model = MultinomialNB()\n",
        "# use the training set to train the model\n",
        "model.fit(x_train,y_train)\n",
        "# use the testing set to test the model\n",
        "model.score(x_test,y_test)"
      ],
      "execution_count": 154,
      "outputs": [
        {
          "output_type": "execute_result",
          "data": {
            "text/plain": [
              "0.9153577661431065"
            ]
          },
          "metadata": {
            "tags": []
          },
          "execution_count": 154
        }
      ]
    },
    {
      "cell_type": "code",
      "metadata": {
        "id": "FCvZ-7rx-i6Q",
        "colab_type": "code",
        "outputId": "27042f72-26d0-4b0e-eabc-afedf5292686",
        "colab": {
          "base_uri": "https://localhost:8080/",
          "height": 401
        }
      },
      "source": [
        "# You can compare the true y values with the predicted values \n",
        "print(\"true:\", y_test[:20])\n",
        "print(\"predicted:\", model.predict(x_test)[:20])"
      ],
      "execution_count": 155,
      "outputs": [
        {
          "output_type": "stream",
          "text": [
            "true: 772     1\n",
            "735     1\n",
            "5636    0\n",
            "913     1\n",
            "979     1\n",
            "2997    0\n",
            "5572    0\n",
            "2252    0\n",
            "552     1\n",
            "561     1\n",
            "4194    0\n",
            "2646    0\n",
            "1327    1\n",
            "468     1\n",
            "136     1\n",
            "2608    0\n",
            "3451    0\n",
            "2250    0\n",
            "3571    0\n",
            "1328    1\n",
            "Name: spam, dtype: int64\n",
            "predicted: [0 1 0 1 1 0 0 0 1 0 0 0 1 1 1 0 0 0 0 1]\n"
          ],
          "name": "stdout"
        }
      ]
    },
    {
      "cell_type": "markdown",
      "metadata": {
        "id": "e4GhurNBFGZ2",
        "colab_type": "text"
      },
      "source": [
        "## Classification Report\n",
        "Calculate how many items are spam from your test dataset.\n",
        "Calculate accuracy.\n"
      ]
    },
    {
      "cell_type": "code",
      "metadata": {
        "id": "uiE2RCZ1FJmk",
        "colab_type": "code",
        "outputId": "cd53a80f-fac7-46f1-949d-5f47ed41225f",
        "colab": {
          "base_uri": "https://localhost:8080/",
          "height": 174
        }
      },
      "source": [
        "  y_true = y_test\n",
        "y_pred = model.predict(x_test)\n",
        "target_names = ['ham', 'spam']\n",
        "print(classification_report(y_true, y_pred, target_names=target_names))\n"
      ],
      "execution_count": 156,
      "outputs": [
        {
          "output_type": "stream",
          "text": [
            "              precision    recall  f1-score   support\n",
            "\n",
            "         ham       0.90      1.00      0.95       869\n",
            "        spam       1.00      0.65      0.79       277\n",
            "\n",
            "    accuracy                           0.92      1146\n",
            "   macro avg       0.95      0.82      0.87      1146\n",
            "weighted avg       0.92      0.92      0.91      1146\n",
            "\n"
          ],
          "name": "stdout"
        }
      ]
    },
    {
      "cell_type": "markdown",
      "metadata": {
        "id": "-5mq8sLOtssx",
        "colab_type": "text"
      },
      "source": [
        "From the classification report above, we can see that out of 1146 emails, 276 are spam. Also, the accuracy of predicting a spam email is 1, which is very important for a spam filter (we wouldn''t wanna lose a ham email to the spam folder but the opposite is okay)."
      ]
    },
    {
      "cell_type": "markdown",
      "metadata": {
        "id": "IRRvNtb8-XYC",
        "colab_type": "text"
      },
      "source": [
        "## Manual Testing\n",
        "Select an email from the test dataset and predict if it is spam or ham.\n"
      ]
    },
    {
      "cell_type": "code",
      "metadata": {
        "id": "_IW18J3uwVWD",
        "colab_type": "code",
        "outputId": "d4b5b219-90a8-446e-a11b-bf4248667406",
        "colab": {
          "base_uri": "https://localhost:8080/",
          "height": 34
        }
      },
      "source": [
        "# select a random email from the test dataset\n",
        "test = x_test[(random.randint(0,len(x_test)))]\n",
        "# Reshape the test smaple using array.reshape(1, -1) as it contains a single sample.\n",
        "predict_test = model.predict(test.reshape(1,-1))\n",
        "# the test result is spam for '1' and ham for '0' \n",
        "result = \"ham\" if predict_test[0] == 0 else \"spam\"\n",
        "result #print the result"
      ],
      "execution_count": 157,
      "outputs": [
        {
          "output_type": "execute_result",
          "data": {
            "text/plain": [
              "'ham'"
            ]
          },
          "metadata": {
            "tags": []
          },
          "execution_count": 157
        }
      ]
    }
  ]
}