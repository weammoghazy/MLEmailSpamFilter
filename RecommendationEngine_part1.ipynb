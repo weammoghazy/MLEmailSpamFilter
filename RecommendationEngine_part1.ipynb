{
  "nbformat": 4,
  "nbformat_minor": 0,
  "metadata": {
    "colab": {
      "name": "part1.ipynb",
      "version": "0.3.2",
      "provenance": [],
      "collapsed_sections": [],
      "include_colab_link": true
    },
    "kernelspec": {
      "name": "python2",
      "display_name": "Python 2"
    }
  },
  "cells": [
    {
      "cell_type": "markdown",
      "metadata": {
        "id": "view-in-github",
        "colab_type": "text"
      },
      "source": [
        "<a href=\"https://colab.research.google.com/github/weammoghazy/MLEmailSpamFilter/blob/master/RecommendationEngine_part1.ipynb\" target=\"_parent\"><img src=\"https://colab.research.google.com/assets/colab-badge.svg\" alt=\"Open In Colab\"/></a>"
      ]
    },
    {
      "cell_type": "code",
      "metadata": {
        "id": "YtVayOyFg4Td",
        "colab_type": "code",
        "colab": {}
      },
      "source": [
        "!pip install apache-beam"
      ],
      "execution_count": 0,
      "outputs": []
    },
    {
      "cell_type": "code",
      "metadata": {
        "id": "D7_XuwaNGHk-",
        "colab_type": "code",
        "colab": {}
      },
      "source": [
        "import apache_beam as beam\n",
        "import tensorflow as tf\n",
        "from apache_beam.options.pipeline_options import PipelineOptions\n",
        "\n",
        "import re\n",
        "import pandas as pd\n",
        "import numpy as np\n",
        "\n",
        "from google.colab import files"
      ],
      "execution_count": 0,
      "outputs": []
    },
    {
      "cell_type": "code",
      "metadata": {
        "id": "ssoY8e2P06ob",
        "colab_type": "code",
        "colab": {}
      },
      "source": [
        "# create an empty pipeline\n",
        "options = PipelineOptions()\n",
        "p = beam.Pipeline(options=options)"
      ],
      "execution_count": 0,
      "outputs": []
    },
    {
      "cell_type": "code",
      "metadata": {
        "id": "EgxflmzNafY0",
        "colab_type": "code",
        "colab": {}
      },
      "source": [
        "uploaded = files.upload()"
      ],
      "execution_count": 0,
      "outputs": []
    },
    {
      "cell_type": "code",
      "metadata": {
        "id": "-inLDXTexd1x",
        "colab_type": "code",
        "colab": {}
      },
      "source": [
        "# Run and print a shell command.\n",
        "def run(cmd):\n",
        "  print('>> {}'.format(cmd))\n",
        "  !{cmd}\n",
        "  print('')"
      ],
      "execution_count": 0,
      "outputs": []
    },
    {
      "cell_type": "code",
      "metadata": {
        "id": "X7k3uOkFa5rM",
        "colab_type": "code",
        "colab": {}
      },
      "source": [
        "# read a csv file\n",
        "dff = pd.read_csv('data_users__doc_0_611.csv', header=0)\n",
        "\n",
        "# extract the header row\n",
        "file_header = dff.columns.values\n",
        "\n",
        "# convert the ndarray into a list (on which we can run index() method)\n",
        "file_header = list(np.array(file_header))"
      ],
      "execution_count": 0,
      "outputs": []
    },
    {
      "cell_type": "code",
      "metadata": {
        "id": "KIPmZnc2cOld",
        "colab_type": "code",
        "colab": {}
      },
      "source": [
        "# takes a header row, searches for skillsArray, and returns an array of skills column indices \n",
        "def skills_array(header):\n",
        "    i = 0\n",
        "    skills_indices = []\n",
        "    while (True):\n",
        "        skill = 'skillsArray[' + str(i) + ']'\n",
        "        if skill not in header:\n",
        "            break\n",
        "        skills_indices.append(header.index(skill))\n",
        "        i += 1\n",
        "    return skills_indices"
      ],
      "execution_count": 0,
      "outputs": []
    },
    {
      "cell_type": "code",
      "metadata": {
        "id": "TffJT7Iu3iVW",
        "colab_type": "code",
        "colab": {}
      },
      "source": [
        "inputs_pattern = 'data_users__doc_0_611.csv'\n",
        "outputs_prefix = './output.csv'\n",
        "      \n",
        "class Split(beam.DoFn):\n",
        "  my_list = list()\n",
        "  \n",
        "  def __init__(self, indxArr):\n",
        "    super(Split, self).__init__()\n",
        "    self.indxArr = indxArr\n",
        "    \n",
        "  def process(self, element):\n",
        "    temp_list = []\n",
        "    my_list = element.split(',')\n",
        "    for i in range (0,len(self.indxArr)):\n",
        "      temp_list.append(my_list[self.indxArr[i]])\n",
        "    return [temp_list]  \n",
        "\n",
        "with beam.Pipeline() as pipeline:\n",
        "  (\n",
        "      pipeline\n",
        "      | 'Read lines' >> beam.io.ReadFromText(inputs_pattern)\n",
        "      | 'split' >> beam.ParDo(Split(skills_array(file_header)))\n",
        "      | 'Write results' >> beam.io.WriteToText(outputs_prefix)\n",
        "  )\n",
        "\n",
        "#run('head -n 20 {} -00000-of-*'.format(outputs_prefix))"
      ],
      "execution_count": 0,
      "outputs": []
    }
  ]
}